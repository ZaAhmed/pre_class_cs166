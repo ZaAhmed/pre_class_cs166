{
 "cells": [
  {
   "cell_type": "code",
   "execution_count": null,
   "metadata": {
    "collapsed": true
   },
   "outputs": [],
   "source": [
    "import numpy as np\n",
    "import random\n",
    "import scipy\n",
    "\n",
    "#Create a TrafficSimulation class in Python and use its attributes to keep track of the\n",
    "#parameters and state of the simulation.\n",
    "class TrafficSimulation(object):\n",
    "\n",
    "    def __init__(self, Road_length = 100, Traffic_density= 0.03 , Max_Velocity= 5, prob = 0.5):\n",
    "        '''\n",
    "        Initialise a number of important variables\n",
    "        '''\n",
    "        # Length of the road\n",
    "        self.Roadlength = Road_length\n",
    "        \n",
    "        # Density of cars on the road\n",
    "        self.Traffic_density = Traffic_density\n",
    "        \n",
    "        # Maximum velocity that cars will travel at\n",
    "        self.Max_Velocity = Max_Velocity\n",
    "        \n",
    "        # The probability that a car will slow down\n",
    "        self.Prob_Slow_Down = prob\n",
    "        \n",
    "        \n",
    "        ## initializing the array to have the correct number of cars, matching the traffic density\n",
    "        #model parameter\n",
    "    \n",
    "        self.state = -np.ones(self.Roadlength, dtype=int) #Use –1 to represent an empty cell \n",
    "        \n",
    "        #non-negative integers (0, 1, up to the maximum speed) to represent cars at different speeds\n",
    "        \n",
    "        filled_cells = np.random.choice(range(self.Roadlength), size=int(round(density * self.Roadlength)), replace=False)\n",
    "        \n",
    "        self.state[filled_cells] = np.random.randint(0, self.max_velocity + 1, size=len(filled_cells))\n",
    "        \n",
    "    #Implement the update rules in a method containing a for loop, checking if a cell contains a\n",
    "    #car and adjusting its velocity as per the rules. You will need another loop to advance all cars\n",
    "    #by their velocities. Remember the periodic boundary conditions!\n",
    "        \n",
    "    def update(self):\n",
    "         '''\n",
    "        Implement the update rules in a method containing a for loop, checking if a cell contains a\n",
    "        car and adjusting its velocity as per the rules.\n",
    "        '''\n",
    "\n",
    "        #checking if a cell contains a car\n",
    "        for i in range(self.Roadlength):\n",
    "            if self.state[i] != -1: \n",
    "                    # Calculates the distance between one car and the next\n",
    "                    distance = ((self.state[(i+1)%self.RoadLength]) - (self.cars[i]))%self.RoadLength\n",
    "                    while self.state[(i + (dist + 1)) % RoadLength] == -1:\n",
    "                        distance += 1\n",
    "                #Rule 1: if the velocity is greater that v_max and the distance to the next car > v+1\n",
    "                #add one to the v\n",
    "            if self.state[i] < self.MaximumVelocity and distance > self.state[i]:\n",
    "                # Increase velocity by one\n",
    "                self.state[i] += 1\n",
    "            #Rule 2: \n",
    "                if distance < self.state[i]:\n",
    "                    self.state[i] = dist \n",
    "            #Rule_3\n",
    "                if self.state[i] > 0 and np.random.random() < self.Prob_Slow_Down :\n",
    "                    self.state[i] -= 1                   \n",
    "        "
   ]
  },
  {
   "cell_type": "code",
   "execution_count": null,
   "metadata": {
    "collapsed": true
   },
   "outputs": [],
   "source": []
  }
 ],
 "metadata": {
  "kernelspec": {
   "display_name": "Python 3",
   "language": "python",
   "name": "python3"
  },
  "language_info": {
   "codemirror_mode": {
    "name": "ipython",
    "version": 3
   },
   "file_extension": ".py",
   "mimetype": "text/x-python",
   "name": "python",
   "nbconvert_exporter": "python",
   "pygments_lexer": "ipython3",
   "version": "3.6.5"
  }
 },
 "nbformat": 4,
 "nbformat_minor": 2
}
